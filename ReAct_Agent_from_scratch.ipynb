{
  "nbformat": 4,
  "nbformat_minor": 0,
  "metadata": {
    "colab": {
      "provenance": []
    },
    "kernelspec": {
      "name": "python3",
      "display_name": "Python 3"
    },
    "language_info": {
      "name": "python"
    }
  },
  "cells": [
    {
      "cell_type": "code",
      "execution_count": null,
      "metadata": {
        "id": "YYjt332Kv8pX"
      },
      "outputs": [],
      "source": [
        "!pip install -U groq"
      ]
    },
    {
      "cell_type": "code",
      "source": [
        "import os\n",
        "\n",
        "# Prompt the user for the GROQ API Key\n",
        "api_key = input(\"Please enter your GROQ API Key: \")\n",
        "os.environ['GROQ_API_KEY'] = api_key\n"
      ],
      "metadata": {
        "id": "w0qIiDK5wAYZ"
      },
      "execution_count": null,
      "outputs": []
    },
    {
      "cell_type": "code",
      "source": [
        "from groq import Groq\n",
        "\n",
        "client = Groq(\n",
        "    api_key=os.environ.get('GROQ_API_KEY'),\n",
        ")\n",
        "chat_completion = client.chat.completions.create(\n",
        "    messages = [\n",
        "        {\n",
        "            \"role\": \"user\",\n",
        "            \"content\": \"Explain the importance of fast language models\",\n",
        "        }\n",
        "    ],\n",
        "    model=\"llama3-8b-8192\",\n",
        "    temperature= 0\n",
        ")\n",
        "print(chat_completion.choices[0].message.content)"
      ],
      "metadata": {
        "colab": {
          "base_uri": "https://localhost:8080/"
        },
        "id": "u6hVDz8xwA2Q",
        "outputId": "3e6bcd02-0564-4008-cb05-73ef2d68ba44"
      },
      "execution_count": 25,
      "outputs": [
        {
          "output_type": "stream",
          "name": "stdout",
          "text": [
            "Fast language models, also known as efficient language models or lightweight language models, have gained significant attention in recent years due to their importance in various applications. Here are some reasons why fast language models are crucial:\n",
            "\n",
            "1. **Scalability**: Fast language models can process large amounts of text data quickly, making them suitable for applications that require real-time processing, such as chatbots, virtual assistants, and language translation systems.\n",
            "2. **Resource Efficiency**: Fast language models are designed to be computationally efficient, which means they can run on devices with limited resources, such as mobile phones, embedded systems, or edge devices. This is particularly important for applications where power consumption and memory usage are critical.\n",
            "3. **Improved User Experience**: Fast language models enable faster response times, which can significantly improve the user experience in applications like language translation, text summarization, and language generation.\n",
            "4. **Real-time Processing**: Fast language models can process text data in real-time, allowing for applications like speech recognition, sentiment analysis, and text classification to respond quickly to user input.\n",
            "5. **Edge Computing**: Fast language models can be deployed on edge devices, reducing the need for data to be transmitted to the cloud or a central server, which can improve latency, security, and data privacy.\n",
            "6. **Explainability and Transparency**: Fast language models can provide insights into the decision-making process, making them more transparent and explainable, which is essential for applications like natural language processing, sentiment analysis, and text classification.\n",
            "7. **Adversarial Robustness**: Fast language models can be designed to be more robust against adversarial attacks, which is critical for applications like language translation, text classification, and sentiment analysis.\n",
            "8. **Multimodal Processing**: Fast language models can be used for multimodal processing, such as processing text, images, and audio simultaneously, which is essential for applications like visual question answering, image captioning, and speech recognition.\n",
            "9. **Cross-Lingual Processing**: Fast language models can be used for cross-lingual processing, which enables applications like machine translation, language understanding, and text summarization to work across different languages.\n",
            "10. **Future Research Directions**: Fast language models can serve as a foundation for future research directions, such as developing more advanced language models, exploring new applications, and improving the performance of existing models.\n",
            "\n",
            "Some examples of applications that benefit from fast language models include:\n",
            "\n",
            "* Chatbots and virtual assistants\n",
            "* Language translation systems\n",
            "* Text summarization and generation\n",
            "* Sentiment analysis and opinion mining\n",
            "* Speech recognition and speech-to-text systems\n",
            "* Natural language processing and information retrieval\n",
            "* Multimodal processing and fusion\n",
            "* Cross-lingual processing and machine translation\n",
            "\n",
            "In summary, fast language models are essential for various applications that require efficient, scalable, and real-time processing of text data. They can improve user experience, reduce latency, and provide insights into the decision-making process, making them a crucial component of modern natural language processing and artificial intelligence systems.\n"
          ]
        }
      ]
    },
    {
      "cell_type": "code",
      "source": [
        "class Agent:\n",
        "    def __init__(self, client: Groq, system: str = \"\") -> None:\n",
        "        self.client = client\n",
        "        self.system = system\n",
        "        self.messages: list = []\n",
        "        if self.system:\n",
        "            self.messages.append({\"role\": \"system\", \"content\": system})\n",
        "\n",
        "    def __call__(self, message=\"\"):\n",
        "        if message:\n",
        "            self.messages.append({\"role\": \"user\", \"content\": message})\n",
        "        result = self.execute()\n",
        "        self.messages.append({\"role\": \"assistant\", \"content\": result})\n",
        "        return result\n",
        "\n",
        "    def execute(self):\n",
        "        completion = client.chat.completions.create(\n",
        "            model=\"llama3-70b-8192\", messages=self.messages\n",
        "        )\n",
        "        return completion.choices[0].message.content"
      ],
      "metadata": {
        "id": "6cNKGWztyv7T"
      },
      "execution_count": 20,
      "outputs": []
    },
    {
      "cell_type": "code",
      "source": [
        "system_prompt = \"\"\"\n",
        "You run in a loop of Thought, Action, PAUSE, Observation.\n",
        "At the end of the loop you output an Answer\n",
        "Use Thought to describe your thoughts about the question you have been asked.\n",
        "Use Action to run one of the actions available to you - then return PAUSE.\n",
        "Observation will be the result of running those actions.\n",
        "\n",
        "Your available actions are:\n",
        "\n",
        "calculate:\n",
        "e.g. calculate: 4 * 7 / 3\n",
        "Runs a calculation and returns the number - uses Python so be sure to use floating point syntax if necessary\n",
        "\n",
        "get_planet_mass:\n",
        "e.g. get_planet_mass: Earth\n",
        "returns weight of the planet in kg\n",
        "\n",
        "Example session:\n",
        "\n",
        "Question: What is the mass of Earth times 2?\n",
        "Thought: I need to find the mass of Earth\n",
        "Action: get_planet_mass: Earth\n",
        "PAUSE\n",
        "\n",
        "You will be called again with this:\n",
        "\n",
        "Observation: 5.972e24\n",
        "\n",
        "Thought: I need to multiply this by 2\n",
        "Action: calculate: 5.972e24 * 2\n",
        "PAUSE\n",
        "\n",
        "You will be called again with this:\n",
        "\n",
        "Observation: 1,1944×10e25\n",
        "\n",
        "If you have the answer, output it as the Answer.\n",
        "\n",
        "Answer: The mass of Earth times 2 is 1,1944×10e25.\n",
        "\n",
        "Now it's your turn:\n",
        "\"\"\".strip()\n",
        "\n",
        "\n",
        "def calculate(operation: str) -> float:\n",
        "    return eval(operation)\n",
        "\n",
        "\n",
        "def get_planet_mass(planet) -> float:\n",
        "    match planet.lower():\n",
        "        case \"earth\":\n",
        "            return 5.972e24\n",
        "        case \"jupiter\":\n",
        "            return 1.898e27\n",
        "        case \"mars\":\n",
        "            return 6.39e23\n",
        "        case \"mercury\":\n",
        "            return 3.285e23\n",
        "        case \"neptune\":\n",
        "            return 1.024e26\n",
        "        case \"saturn\":\n",
        "            return 5.683e26\n",
        "        case \"uranus\":\n",
        "            return 8.681e25\n",
        "        case \"venus\":\n",
        "            return 4.867e24\n",
        "        case _:\n",
        "            return 0.0"
      ],
      "metadata": {
        "id": "_uk5SFbqywBy"
      },
      "execution_count": 21,
      "outputs": []
    },
    {
      "cell_type": "code",
      "source": [
        "import re\n",
        "\n",
        "\n",
        "def loop(max_iterations=10, query: str = \"\"):\n",
        "\n",
        "    agent = Agent(client=client, system=system_prompt)\n",
        "\n",
        "    tools = [\"calculate\", \"get_planet_mass\"]\n",
        "\n",
        "    next_prompt = query\n",
        "\n",
        "    i = 0\n",
        "\n",
        "    while i < max_iterations:\n",
        "        i += 1\n",
        "        result = agent(next_prompt)\n",
        "        print(result)\n",
        "\n",
        "        if \"PAUSE\" in result and \"Action\" in result:\n",
        "            action = re.findall(r\"Action: ([a-z_]+): (.+)\", result, re.IGNORECASE)\n",
        "            chosen_tool = action[0][0]\n",
        "            arg = action[0][1]\n",
        "\n",
        "            if chosen_tool in tools:\n",
        "                result_tool = eval(f\"{chosen_tool}('{arg}')\")\n",
        "                next_prompt = f\"Observation: {result_tool}\"\n",
        "\n",
        "            else:\n",
        "                next_prompt = \"Observation: Tool not found\"\n",
        "\n",
        "            print(next_prompt)\n",
        "            continue\n",
        "\n",
        "        if \"Answer\" in result:\n",
        "            break\n",
        "\n",
        "\n",
        "loop(query=\"What is the mass of Earth plus the mass of Saturn and all of that times 2?\")"
      ],
      "metadata": {
        "colab": {
          "base_uri": "https://localhost:8080/"
        },
        "id": "8-mlg-TCywJb",
        "outputId": "ee40f564-f019-49dc-86b4-9b2e2093a2c2"
      },
      "execution_count": 23,
      "outputs": [
        {
          "output_type": "stream",
          "name": "stdout",
          "text": [
            "Thought: I need to find the masses of Earth and Saturn.\n",
            "Action: get_planet_mass: Earth\n",
            "PAUSE\n",
            "Observation: 5.972e+24\n",
            "Thought: I have the mass of Earth, now I need to find the mass of Saturn.\n",
            "Action: get_planet_mass: Saturn\n",
            "PAUSE\n",
            "Observation: 5.683e+26\n",
            "Thought: I have the masses of Earth and Saturn, now I need to add them together.\n",
            "Action: calculate: 5.972e+24 + 5.683e+26\n",
            "PAUSE\n",
            "Observation: 5.74272e+26\n",
            "Thought: I have the sum of the masses, now I need to multiply it by 2.\n",
            "Action: calculate: 5.74272e+26 * 2\n",
            "PAUSE\n",
            "Observation: 1.148544e+27\n",
            "Answer: The mass of Earth plus the mass of Saturn and all of that times 2 is 1.148544e+27.\n"
          ]
        }
      ]
    },
    {
      "cell_type": "code",
      "source": [],
      "metadata": {
        "id": "JsT758YtywQS"
      },
      "execution_count": null,
      "outputs": []
    },
    {
      "cell_type": "code",
      "source": [],
      "metadata": {
        "id": "B8QZk5vgywTE"
      },
      "execution_count": null,
      "outputs": []
    },
    {
      "cell_type": "code",
      "source": [],
      "metadata": {
        "id": "dQ6vRIYnywWk"
      },
      "execution_count": null,
      "outputs": []
    },
    {
      "cell_type": "code",
      "source": [],
      "metadata": {
        "id": "zlzAEch9ywZ3"
      },
      "execution_count": null,
      "outputs": []
    },
    {
      "cell_type": "code",
      "source": [],
      "metadata": {
        "id": "gK4TIjXmwA4u"
      },
      "execution_count": null,
      "outputs": []
    },
    {
      "cell_type": "code",
      "source": [],
      "metadata": {
        "id": "i5-7gKhcwA7j"
      },
      "execution_count": null,
      "outputs": []
    },
    {
      "cell_type": "code",
      "source": [],
      "metadata": {
        "id": "DRmmtON7wA-f"
      },
      "execution_count": null,
      "outputs": []
    },
    {
      "cell_type": "code",
      "source": [],
      "metadata": {
        "id": "B7bcSLqJwBBC"
      },
      "execution_count": null,
      "outputs": []
    },
    {
      "cell_type": "code",
      "source": [],
      "metadata": {
        "id": "C5fFqFpAwBEX"
      },
      "execution_count": null,
      "outputs": []
    }
  ]
}